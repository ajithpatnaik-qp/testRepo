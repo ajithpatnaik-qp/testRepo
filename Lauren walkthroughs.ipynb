{
 "cells": [
  {
   "cell_type": "code",
   "execution_count": 1,
   "id": "173db667",
   "metadata": {},
   "outputs": [
    {
     "name": "stdout",
     "output_type": "stream",
     "text": [
      "t8sGXjPhKLC1vLVUsUsn\n"
     ]
    }
   ],
   "source": [
    "import os\n",
    "#from dotenv import load_dotenv\n",
    "\n",
    "#load_dotenv()\n",
    "#API_KEY = os.getenv('NASDAQ_API_KEY')\n",
    "\n",
    "API_KEY = 't8sGXjPhKLC1vLVUsUsn'\n",
    "print(API_KEY)\n"
   ]
  },
  {
   "cell_type": "code",
   "execution_count": 2,
   "id": "fc06fff9",
   "metadata": {},
   "outputs": [],
   "source": [
    "import json\n",
    "import requests"
   ]
  },
  {
   "cell_type": "code",
   "execution_count": 5,
   "id": "b0b27a17",
   "metadata": {},
   "outputs": [
    {
     "name": "stdout",
     "output_type": "stream",
     "text": [
      "https://data.nasdaq.com/api/v3/datasets/FSE/AFX_X/data.json\n"
     ]
    }
   ],
   "source": [
    "url = 'https://data.nasdaq.com/api/v3/datasets/FSE/AFX_X/data.json'\n",
    "print(url)\n",
    "\n",
    "r = requests.get(url+'?api_key='+API_KEY+'&start_date=2017-01-01&end_date=2017-01-02')\n",
    "json_data = r.json()"
   ]
  },
  {
   "cell_type": "code",
   "execution_count": 6,
   "id": "001a3d6d",
   "metadata": {},
   "outputs": [
    {
     "name": "stdout",
     "output_type": "stream",
     "text": [
      "dataset_data: {'limit': None, 'transform': None, 'column_index': None, 'column_names': ['Date', 'Open', 'High', 'Low', 'Close', 'Change', 'Traded Volume', 'Turnover', 'Last Price of the Day', 'Daily Traded Units', 'Daily Turnover'], 'start_date': '2017-01-01', 'end_date': '2017-01-02', 'frequency': 'daily', 'data': [['2017-01-02', 34.99, 35.94, 34.99, 35.8, None, 44700.0, 1590561.0, None, None, None]], 'collapse': None, 'order': None}\n"
     ]
    }
   ],
   "source": [
    "for k in json_data.keys():\n",
    "    print(k+':',json_data[k])"
   ]
  },
  {
   "cell_type": "code",
   "execution_count": null,
   "id": "9322b9c6",
   "metadata": {},
   "outputs": [],
   "source": []
  }
 ],
 "metadata": {
  "kernelspec": {
   "display_name": "Python 3 (ipykernel)",
   "language": "python",
   "name": "python3"
  },
  "language_info": {
   "codemirror_mode": {
    "name": "ipython",
    "version": 3
   },
   "file_extension": ".py",
   "mimetype": "text/x-python",
   "name": "python",
   "nbconvert_exporter": "python",
   "pygments_lexer": "ipython3",
   "version": "3.9.12"
  }
 },
 "nbformat": 4,
 "nbformat_minor": 5
}
